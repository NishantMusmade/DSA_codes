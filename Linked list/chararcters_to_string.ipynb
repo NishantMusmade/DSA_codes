{
 "cells": [
  {
   "cell_type": "code",
   "execution_count": 28,
   "metadata": {},
   "outputs": [],
   "source": [
    "# Given a linked list of characters. Write a python function to return a new string that is created by appending all the characters given in the linked list as per the rules given below.\n",
    "# Rules →>\n",
    "# Réplace * or / by a single space\n",
    "# In case of two consecutive occurrences of ** or /', replace those two occurrences by a single space anc convert the next character to upper case\n",
    "# Assume that →\n",
    "# There will not be more than two consecutive occurrences of * or /\n",
    "# The linked list will always end with an alphabet\n",
    "# Sample Input\n",
    "# A,n,*,/,a,p,p,l,e, *,a,/,day, *,*,k,e,e,p,s,/,*,a,/,/,d,o,c,t,o,r,*,A,w,a,y\n",
    "# Expected Output\n",
    "# An Apple a day Keeps A Doctor Away"
   ]
  },
  {
   "cell_type": "code",
   "execution_count": 29,
   "metadata": {},
   "outputs": [],
   "source": [
    "class Node:\n",
    "    def __init__(self,data):\n",
    "        self.data = data\n",
    "        self.next = None"
   ]
  },
  {
   "cell_type": "code",
   "execution_count": 30,
   "metadata": {},
   "outputs": [],
   "source": [
    "class linked_list:\n",
    "    def __init__(self):\n",
    "        self.head = None\n",
    "        self.n = 0\n",
    "    \n",
    "    def __str__(self):\n",
    "        curr = self.head\n",
    "        result = ''\n",
    "        while curr!= None:\n",
    "            result = result + str(curr.data) + '->'\n",
    "            curr = curr.next\n",
    "        return result[:-2]\n",
    "    \n",
    "    def insert(self,data):\n",
    "        new_node = Node(data)\n",
    "        if self.head == None:\n",
    "            self.head = new_node\n",
    "        else:\n",
    "            curr = self.head\n",
    "            while curr.next != None:\n",
    "                curr = curr.next\n",
    "            \n",
    "            curr.next = new_node\n",
    "        self.n = self.n + 1\n"
   ]
  },
  {
   "cell_type": "code",
   "execution_count": 31,
   "metadata": {},
   "outputs": [
    {
     "name": "stdout",
     "output_type": "stream",
     "text": [
      "A->n->*->/->a->p->p->l->e->*->a->/->day->*->*->k->e->e->p->s->/->*->a->/->/->d->o->c->t->o->r->*->A->w->a->y\n"
     ]
    }
   ],
   "source": [
    "L =linked_list()\n",
    "\n",
    "L.insert('A')\n",
    "L.insert('n')\n",
    "L.insert('*')\n",
    "L.insert('/')\n",
    "L.insert('a')\n",
    "L.insert('p')\n",
    "L.insert('p')\n",
    "L.insert('l')\n",
    "L.insert('e')\n",
    "L.insert('*')\n",
    "L.insert('a')\n",
    "L.insert('/')\n",
    "L.insert('day')\n",
    "L.insert('*')\n",
    "L.insert('*')\n",
    "L.insert('k')\n",
    "L.insert('e')\n",
    "L.insert('e')\n",
    "L.insert('p')\n",
    "L.insert('s')\n",
    "L.insert('/')\n",
    "L.insert('*')\n",
    "L.insert('a')\n",
    "L.insert('/')\n",
    "L.insert('/')\n",
    "L.insert('d')\n",
    "L.insert('o')\n",
    "L.insert('c')\n",
    "L.insert('t')\n",
    "L.insert('o')\n",
    "L.insert('r')\n",
    "L.insert('*')\n",
    "L.insert('A')\n",
    "L.insert('w')\n",
    "L.insert('a')\n",
    "L.insert('y')\n",
    "\n",
    "\n",
    "print(L)\n",
    "\n",
    "\n"
   ]
  },
  {
   "cell_type": "code",
   "execution_count": 32,
   "metadata": {},
   "outputs": [
    {
     "name": "stdout",
     "output_type": "stream",
     "text": [
      "An Apple a day Keeps A Doctor Away\n"
     ]
    }
   ],
   "source": [
    "def desired_char_list():\n",
    "    if L.head == None:\n",
    "        return 'Empty list'\n",
    "    curr = L.head\n",
    "    while curr!=None:\n",
    "        if curr.data == '*' or curr.data == '/':\n",
    "            #replacing * or / with space\n",
    "            curr.data = ' '\n",
    "            if curr.next.data =='*' or curr.next.data == '/':\n",
    "                #converting to upper\n",
    "                curr.next.next.data = curr.next.next.data.upper()\n",
    "                #linking curr node to the next to next node\n",
    "                curr.next = curr.next.next\n",
    "        curr = curr.next\n",
    "\n",
    "#creating string by adding elements of linked list\n",
    "def convert_list_to_string():\n",
    "    if L.head == None:\n",
    "        return 'Empty list'\n",
    "    desired_string =''\n",
    "    curr = L.head\n",
    "    while curr!=None:\n",
    "        desired_string = desired_string  + curr.data\n",
    "        curr = curr.next\n",
    "    \n",
    "    print(desired_string)\n",
    "\n",
    "\n",
    "\n",
    "desired_char_list()\n",
    "convert_list_to_string()"
   ]
  },
  {
   "cell_type": "code",
   "execution_count": null,
   "metadata": {},
   "outputs": [],
   "source": []
  }
 ],
 "metadata": {
  "kernelspec": {
   "display_name": "Python 3",
   "language": "python",
   "name": "python3"
  },
  "language_info": {
   "codemirror_mode": {
    "name": "ipython",
    "version": 3
   },
   "file_extension": ".py",
   "mimetype": "text/x-python",
   "name": "python",
   "nbconvert_exporter": "python",
   "pygments_lexer": "ipython3",
   "version": "3.11.4"
  }
 },
 "nbformat": 4,
 "nbformat_minor": 2
}
