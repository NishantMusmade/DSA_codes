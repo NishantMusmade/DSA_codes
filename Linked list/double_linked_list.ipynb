{
 "cells": [
  {
   "cell_type": "code",
   "execution_count": 51,
   "metadata": {},
   "outputs": [],
   "source": [
    "class Node:\n",
    "    def __init__(self,data):\n",
    "        self.data = data\n",
    "        self.next = None\n",
    "        self.prev = None"
   ]
  },
  {
   "cell_type": "code",
   "execution_count": 52,
   "metadata": {},
   "outputs": [],
   "source": [
    "class double_linked_list:\n",
    "    def __init__(self):\n",
    "        self.head = None\n",
    "        self.n = 0\n",
    "\n",
    "    def __str__(self):\n",
    "        curr = self.head\n",
    "        result = ''\n",
    "        while curr!= None:\n",
    "            result = result + str(curr.data) + '->'\n",
    "            curr = curr.next\n",
    "        \n",
    "        return result[:-2]\n",
    "    \n",
    "    def reverse(self):\n",
    "        curr = self.head\n",
    "        result = ''\n",
    "        while curr.next!= None:\n",
    "            curr = curr.next\n",
    "        \n",
    "        while curr!=None:\n",
    "            result = result + str(curr.data) + '->'\n",
    "            curr = curr.prev\n",
    "        \n",
    "        return result[:-2]\n",
    "\n",
    "    # inserting data at beginning\n",
    "    def insert_start(self,data):\n",
    "        new_node = Node(data)\n",
    "        if self.head == None:\n",
    "            self.head = new_node\n",
    "        else:\n",
    "            new_node.next = self.head\n",
    "            self.head.prev = new_node\n",
    "            self.head = new_node\n",
    "        self.n = self.n+1\n",
    "\n",
    "    #inserting data at end\n",
    "    def insert_end(self,data):\n",
    "        new_node = Node(data)\n",
    "        if self.head == None:\n",
    "            self.head = new_node\n",
    "        else:\n",
    "            curr = self.head\n",
    "            while curr.next != None:\n",
    "                curr = curr.next\n",
    "            curr.next = new_node\n",
    "            new_node.prev = curr\n",
    "        self.n = self.n+1\n",
    "    \n",
    "    #inserting data at particular position\n",
    "    def insert_pos(self,pos,data):\n",
    "        if (0<=pos<self.n) == False:\n",
    "            return 'List index out of range'\n",
    "        new_node = Node(data)\n",
    "        curr = self.head\n",
    "        for i in range(pos-1):\n",
    "            curr = curr.next\n",
    "        \n",
    "        new_node.next = curr.next\n",
    "        new_node.prev = curr\n",
    "        curr.next.prev = new_node\n",
    "        curr.next = new_node\n",
    "\n",
    "        self.n = self.n +1\n",
    "\n"
   ]
  },
  {
   "cell_type": "code",
   "execution_count": 53,
   "metadata": {},
   "outputs": [
    {
     "name": "stdout",
     "output_type": "stream",
     "text": [
      "10->20->30->40->50\n",
      "5\n"
     ]
    }
   ],
   "source": [
    "L = double_linked_list()\n",
    "\n",
    "L.insert_start(20)\n",
    "L.insert_start(10)\n",
    "L.insert_end(30)\n",
    "L.insert_end(40)\n",
    "L.insert_end(50)\n",
    "\n",
    "print(L)\n",
    "print(L.n)"
   ]
  },
  {
   "cell_type": "code",
   "execution_count": 54,
   "metadata": {},
   "outputs": [
    {
     "data": {
      "text/plain": [
       "'50->40->30->20->10'"
      ]
     },
     "execution_count": 54,
     "metadata": {},
     "output_type": "execute_result"
    }
   ],
   "source": [
    "L.reverse()"
   ]
  },
  {
   "cell_type": "code",
   "execution_count": 55,
   "metadata": {},
   "outputs": [
    {
     "name": "stdout",
     "output_type": "stream",
     "text": [
      "10->20->100->30->40->50\n",
      "10->20->100->30->300->40->50\n"
     ]
    }
   ],
   "source": [
    "L.insert_pos(2,100)\n",
    "print(L)\n",
    "L.insert_pos(4,300)\n",
    "print(L)"
   ]
  },
  {
   "cell_type": "code",
   "execution_count": null,
   "metadata": {},
   "outputs": [],
   "source": []
  }
 ],
 "metadata": {
  "kernelspec": {
   "display_name": "Python 3",
   "language": "python",
   "name": "python3"
  },
  "language_info": {
   "codemirror_mode": {
    "name": "ipython",
    "version": 3
   },
   "file_extension": ".py",
   "mimetype": "text/x-python",
   "name": "python",
   "nbconvert_exporter": "python",
   "pygments_lexer": "ipython3",
   "version": "3.11.4"
  }
 },
 "nbformat": 4,
 "nbformat_minor": 2
}
