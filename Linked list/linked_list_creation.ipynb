{
 "cells": [
  {
   "cell_type": "code",
   "execution_count": 614,
   "metadata": {},
   "outputs": [],
   "source": [
    "class Node:\n",
    "    def __init__(self,value):\n",
    "        self.value = value\n",
    "        self.next = None"
   ]
  },
  {
   "cell_type": "code",
   "execution_count": 615,
   "metadata": {},
   "outputs": [
    {
     "name": "stdout",
     "output_type": "stream",
     "text": [
      "Value in Node a is 12 and its next is pointing to None\n",
      "Value in Node b is 22 and its next is pointing to None\n",
      "Value in Node c is 34 and its next is pointing to None\n"
     ]
    }
   ],
   "source": [
    "#creating 3 individual nodes\n",
    "a = Node(12)\n",
    "b = Node(22)\n",
    "c = Node(34)\n",
    "\n",
    "print(f'Value in Node a is {a.value} and its next is pointing to {a.next}')\n",
    "print(f'Value in Node b is {b.value} and its next is pointing to {b.next}')\n",
    "print(f'Value in Node c is {c.value} and its next is pointing to {c.next}')"
   ]
  },
  {
   "cell_type": "code",
   "execution_count": 616,
   "metadata": {},
   "outputs": [
    {
     "name": "stdout",
     "output_type": "stream",
     "text": [
      "Address of b:  <__main__.Node object at 0x0000023178C44C50>\n",
      "Address of c:  <__main__.Node object at 0x000002317707E650>\n",
      "\n",
      "next of a is poiinting to <__main__.Node object at 0x0000023178C44C50> i.e., to b\n",
      "next of b is poiinting to <__main__.Node object at 0x000002317707E650> i.e., to c\n"
     ]
    }
   ],
   "source": [
    "#creating links between nodes\n",
    "a.next = b\n",
    "b.next = c\n",
    "\n",
    "\n",
    "print('Address of b: ',b)\n",
    "print('Address of c: ',c)\n",
    "\n",
    "print()\n",
    "print(f'next of a is poiinting to {a.next} i.e., to b')\n",
    "print(f'next of b is poiinting to {b.next} i.e., to c')"
   ]
  },
  {
   "cell_type": "code",
   "execution_count": 617,
   "metadata": {},
   "outputs": [],
   "source": [
    "#creating linked list\n",
    "class LinkedList:\n",
    "    def __init__(self):\n",
    "        #empty Linked list\n",
    "        self.head = None\n",
    "        # size of linked list\n",
    "        self.n = 0\n",
    "\n",
    "    def __len__(self):\n",
    "        return self.n\n",
    "    \n",
    "    #inserting a node from head\n",
    "    def insert_head(self,value):\n",
    "        #create node\n",
    "        new_node = Node(value)\n",
    "\n",
    "        #create connection\n",
    "        new_node.next = self.head\n",
    "\n",
    "        # reassign head to new_node\n",
    "        self.head = new_node\n",
    "\n",
    "        #increment n\n",
    "        self.n = self.n+1\n",
    "    \n",
    "    def traverse(self):\n",
    "        curr = self.head\n",
    "\n",
    "        while curr!=None:\n",
    "            print(curr.value)\n",
    "            curr = curr.next\n",
    "\n",
    "    #using __str__ function to print linked list\n",
    "    def __str__(self):\n",
    "        curr = self.head\n",
    "        result =''\n",
    "        while curr != None:\n",
    "            result = result + str(curr.value) + '->'\n",
    "            curr = curr.next\n",
    "        \n",
    "        return result[:-2]\n",
    "\n",
    "    #inserting a node from tail\n",
    "    def insert_tail(self,value):\n",
    "        new_node = Node(value)\n",
    "\n",
    "        #if linked list is empty\n",
    "        if self.head == None:\n",
    "            self.head = new_node\n",
    "            self.n = self.n +1\n",
    "        else:\n",
    "            curr = self.head\n",
    "            while curr.next != None:\n",
    "                curr = curr.next\n",
    "            \n",
    "            curr.next = new_node\n",
    "            self.n = self.n + 1\n",
    "    \n",
    "    #inserting another node at given index\n",
    "    def insert_middle_index(self,index,value):\n",
    "        new_node = Node(value)\n",
    "\n",
    "        curr = self.head\n",
    "        i = 0\n",
    "        while i<index-1:\n",
    "            curr = curr.next\n",
    "            i=i+1\n",
    "        \n",
    "        new_node.next = curr.next\n",
    "        curr.next = new_node\n",
    "        \n",
    "\n",
    "        self.n = self.n+1\n",
    "\n",
    "    #inserting another node after given value\n",
    "    def insert_middle_value(self,after_value,value):\n",
    "        new_node= Node(value)\n",
    "\n",
    "        curr=self.head\n",
    "        while curr != None:\n",
    "            if curr.value == after_value:\n",
    "                break\n",
    "            curr = curr.next\n",
    "        \n",
    "        if curr != None:\n",
    "            new_node.next = curr.next\n",
    "            curr.next = new_node\n",
    "        else:\n",
    "            print('Item not found...!')\n",
    "\n",
    "        self.n = self.n+1\n",
    "    \n",
    "    def clear(self):\n",
    "        self.head = None\n",
    "        self.n =0\n",
    "\n",
    "    def del_head(self):\n",
    "        if self.n == 0:\n",
    "            return 'List is empty'\n",
    "        curr = self.head\n",
    "\n",
    "        self.head = curr.next\n",
    "        curr.next=None\n",
    "        del curr\n",
    "\n",
    "        self.n = self.n - 1\n",
    "\n",
    "    def del_tail(self):\n",
    "        if self.n == 0:\n",
    "            return 'List is empty'\n",
    "        \n",
    "        curr = self.head\n",
    "        #if single node is present\n",
    "        if curr.next == None:\n",
    "           self.del_head()\n",
    "           return\n",
    "        while curr.next.next != None:\n",
    "            # prev = curr\n",
    "            curr = curr.next\n",
    "        \n",
    "        # prev.next =None\n",
    "        del curr.next\n",
    "        curr.next = None\n",
    "        \n",
    "        self.n = self.n - 1\n",
    "\n",
    "    def del_middle(self,value):\n",
    "        if self.n == 0:\n",
    "            return 'List is empty'\n",
    "\n",
    "        curr = self.head\n",
    "        if curr.value == value:\n",
    "            return self.del_head()\n",
    "\n",
    "        while curr.next!= None:\n",
    "            if curr.next.value == value:\n",
    "                break\n",
    "            curr = curr.next\n",
    "        \n",
    "        if curr.next == None:\n",
    "            return 'Value not found in the list'\n",
    "        else:\n",
    "            curr.next = curr.next.next\n",
    "        \n",
    "        self.n = self.n - 1\n",
    "\n",
    "    def search_value(self,value):\n",
    "        curr = self.head\n",
    "        i=0\n",
    "        while curr!=None:\n",
    "            if curr.value == value:\n",
    "                print(f'{value} found at index {i}')\n",
    "                return\n",
    "            i=i+1\n",
    "            curr=curr.next\n",
    "        \n",
    "        print('Given element not found')\n",
    "    \n",
    "    def search_index(self,index):\n",
    "        if 0<=index<self.n:\n",
    "            curr=self.head \n",
    "            i = 0\n",
    "            while i<index:\n",
    "                curr = curr.next\n",
    "                i=i+1\n",
    "            print(f'Value at {index} is {curr.value}')\n",
    "        else:\n",
    "            return 'List index out of range'\n",
    "        \n",
    "    #search element by L[index] method\n",
    "    def __getitem__(self,index):\n",
    "        if 0<=index<self.n:\n",
    "            curr=self.head \n",
    "            i = 0\n",
    "            while i<index:\n",
    "                curr = curr.next\n",
    "                i=i+1\n",
    "            return curr.value\n",
    "        else:\n",
    "            return 'List index out of range'\n",
    "\n"
   ]
  },
  {
   "cell_type": "code",
   "execution_count": 618,
   "metadata": {},
   "outputs": [
    {
     "name": "stdout",
     "output_type": "stream",
     "text": [
      "0\n"
     ]
    }
   ],
   "source": [
    "L = LinkedList()\n",
    "print(len(L))"
   ]
  },
  {
   "cell_type": "code",
   "execution_count": 619,
   "metadata": {},
   "outputs": [
    {
     "name": "stdout",
     "output_type": "stream",
     "text": [
      "4\n"
     ]
    }
   ],
   "source": [
    "L.insert_head(12) \n",
    "L.insert_head(52)\n",
    "L.insert_head(78)\n",
    "L.insert_head(54)\n",
    "\n",
    "print(len(L))"
   ]
  },
  {
   "cell_type": "code",
   "execution_count": 620,
   "metadata": {},
   "outputs": [
    {
     "name": "stdout",
     "output_type": "stream",
     "text": [
      "54\n",
      "78\n",
      "52\n",
      "12\n"
     ]
    }
   ],
   "source": [
    "L.traverse()"
   ]
  },
  {
   "cell_type": "code",
   "execution_count": 621,
   "metadata": {},
   "outputs": [
    {
     "name": "stdout",
     "output_type": "stream",
     "text": [
      "54->78->52->12\n"
     ]
    }
   ],
   "source": [
    "print(L)"
   ]
  },
  {
   "cell_type": "code",
   "execution_count": 622,
   "metadata": {},
   "outputs": [
    {
     "name": "stdout",
     "output_type": "stream",
     "text": [
      "54->78->52->12->90\n"
     ]
    }
   ],
   "source": [
    "L.insert_tail(90)\n",
    "\n",
    "print(L)"
   ]
  },
  {
   "cell_type": "code",
   "execution_count": 623,
   "metadata": {},
   "outputs": [
    {
     "name": "stdout",
     "output_type": "stream",
     "text": [
      "54->78->52->88->12->90\n"
     ]
    }
   ],
   "source": [
    "#inserting a node at given index\n",
    "L.insert_middle_index(3,88)\n",
    "print(L)"
   ]
  },
  {
   "cell_type": "code",
   "execution_count": 624,
   "metadata": {},
   "outputs": [
    {
     "name": "stdout",
     "output_type": "stream",
     "text": [
      "54->78->63->52->88->12->90\n"
     ]
    }
   ],
   "source": [
    "# insertng a new node after a given value\n",
    "L.insert_middle_value(78,63)  # inserting after 78 with value 63\n",
    "print(L)"
   ]
  },
  {
   "cell_type": "code",
   "execution_count": 625,
   "metadata": {},
   "outputs": [],
   "source": [
    "# L.clear()"
   ]
  },
  {
   "cell_type": "code",
   "execution_count": 626,
   "metadata": {},
   "outputs": [],
   "source": [
    "# print(len(L))\n"
   ]
  },
  {
   "cell_type": "code",
   "execution_count": 627,
   "metadata": {},
   "outputs": [
    {
     "name": "stdout",
     "output_type": "stream",
     "text": [
      "78->63->52->88->12->90\n"
     ]
    }
   ],
   "source": [
    "L.del_head()\n",
    "print(L)"
   ]
  },
  {
   "cell_type": "code",
   "execution_count": 628,
   "metadata": {},
   "outputs": [
    {
     "name": "stdout",
     "output_type": "stream",
     "text": [
      "78->63->52->88->12\n"
     ]
    }
   ],
   "source": [
    "L.del_tail()\n",
    "print(L)"
   ]
  },
  {
   "cell_type": "code",
   "execution_count": 629,
   "metadata": {},
   "outputs": [
    {
     "name": "stdout",
     "output_type": "stream",
     "text": [
      "78->63->88->12\n"
     ]
    }
   ],
   "source": [
    "L.del_middle(52)\n",
    "print(L)"
   ]
  },
  {
   "cell_type": "code",
   "execution_count": 630,
   "metadata": {},
   "outputs": [],
   "source": [
    "L.del_middle(78)"
   ]
  },
  {
   "cell_type": "code",
   "execution_count": 631,
   "metadata": {},
   "outputs": [
    {
     "name": "stdout",
     "output_type": "stream",
     "text": [
      "63->88->12\n"
     ]
    }
   ],
   "source": [
    "print(L)"
   ]
  },
  {
   "cell_type": "code",
   "execution_count": 632,
   "metadata": {},
   "outputs": [
    {
     "name": "stdout",
     "output_type": "stream",
     "text": [
      "63->88\n"
     ]
    }
   ],
   "source": [
    "#deleting tail with value\n",
    "L.del_middle(12)\n",
    "print(L)\n"
   ]
  },
  {
   "cell_type": "code",
   "execution_count": 633,
   "metadata": {},
   "outputs": [
    {
     "data": {
      "text/plain": [
       "'Value not found in the list'"
      ]
     },
     "execution_count": 633,
     "metadata": {},
     "output_type": "execute_result"
    }
   ],
   "source": [
    "L.del_middle(98)\n"
   ]
  },
  {
   "cell_type": "code",
   "execution_count": 634,
   "metadata": {},
   "outputs": [],
   "source": [
    "#lets insert more nodes for further operation\n",
    "L.insert_head(5) \n",
    "L.insert_head(59)\n",
    "L.insert_head(90)\n",
    "L.insert_head(32)\n"
   ]
  },
  {
   "cell_type": "code",
   "execution_count": 635,
   "metadata": {},
   "outputs": [
    {
     "name": "stdout",
     "output_type": "stream",
     "text": [
      "32->90->59->5->63->88\n"
     ]
    }
   ],
   "source": [
    "print(L)"
   ]
  },
  {
   "cell_type": "code",
   "execution_count": 636,
   "metadata": {},
   "outputs": [
    {
     "name": "stdout",
     "output_type": "stream",
     "text": [
      "90 found at index 1\n",
      "32 found at index 0\n",
      "88 found at index 5\n",
      "Given element not found\n"
     ]
    }
   ],
   "source": [
    "L.search_value(90) #middle element\n",
    "L.search_value(32) #head element\n",
    "L.search_value(88)  #tail element\n",
    "L.search_value(1001)  #element not in the list"
   ]
  },
  {
   "cell_type": "code",
   "execution_count": 637,
   "metadata": {},
   "outputs": [
    {
     "name": "stdout",
     "output_type": "stream",
     "text": [
      "Value at 0 is 32\n",
      "Value at 3 is 5\n",
      "Value at 5 is 88\n"
     ]
    },
    {
     "data": {
      "text/plain": [
       "'List index out of range'"
      ]
     },
     "execution_count": 637,
     "metadata": {},
     "output_type": "execute_result"
    }
   ],
   "source": [
    "L.search_index(0)  #head element\n",
    "L.search_index(3)  #middle element\n",
    "L.search_index(5)  #tail element\n",
    "L.search_index(45) #index out of range"
   ]
  },
  {
   "cell_type": "code",
   "execution_count": 641,
   "metadata": {},
   "outputs": [
    {
     "name": "stdout",
     "output_type": "stream",
     "text": [
      "32\n",
      "5\n",
      "88\n"
     ]
    }
   ],
   "source": [
    "#searching element by l[index] method\n",
    "print(L[0])\n",
    "print(L[3])\n",
    "print(L[5])\n"
   ]
  },
  {
   "cell_type": "code",
   "execution_count": null,
   "metadata": {},
   "outputs": [],
   "source": []
  }
 ],
 "metadata": {
  "kernelspec": {
   "display_name": "Python 3",
   "language": "python",
   "name": "python3"
  },
  "language_info": {
   "codemirror_mode": {
    "name": "ipython",
    "version": 3
   },
   "file_extension": ".py",
   "mimetype": "text/x-python",
   "name": "python",
   "nbconvert_exporter": "python",
   "pygments_lexer": "ipython3",
   "version": "3.11.4"
  }
 },
 "nbformat": 4,
 "nbformat_minor": 2
}
