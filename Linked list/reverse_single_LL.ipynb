{
 "cells": [
  {
   "cell_type": "code",
   "execution_count": 109,
   "metadata": {},
   "outputs": [],
   "source": [
    "class Node:\n",
    "    def __init__(self,data):\n",
    "        self.data = data\n",
    "        self.next = None"
   ]
  },
  {
   "cell_type": "code",
   "execution_count": 110,
   "metadata": {},
   "outputs": [],
   "source": [
    "class linked_list:\n",
    "    def __init__(self):\n",
    "        self.head = None\n",
    "        self.n = 0\n",
    "    \n",
    "    def __len__(self):\n",
    "        return self.n\n",
    "    \n",
    "    def __str__(self):\n",
    "        curr = self.head\n",
    "        result = ''\n",
    "        while curr!= None:\n",
    "            result = result + str(curr.data) + '->'\n",
    "            curr = curr.next\n",
    "        return result[:-2]\n",
    "    \n",
    "    def insert(self,data):\n",
    "        new_node = Node(data)\n",
    "        if self.head == None:\n",
    "            self.head = new_node\n",
    "        else:\n",
    "            curr = self.head\n",
    "            while curr.next != None:\n",
    "                curr= curr.next\n",
    "            \n",
    "            curr.next = new_node\n",
    "        self.n = self.n+1\n"
   ]
  },
  {
   "cell_type": "code",
   "execution_count": 111,
   "metadata": {},
   "outputs": [
    {
     "name": "stdout",
     "output_type": "stream",
     "text": [
      "1->2->3->4->5\n"
     ]
    }
   ],
   "source": [
    "L = linked_list()\n",
    "\n",
    "L.insert(1)\n",
    "L.insert(2)\n",
    "L.insert(3)\n",
    "L.insert(4)\n",
    "L.insert(5)\n",
    "\n",
    "print(L)"
   ]
  },
  {
   "cell_type": "code",
   "execution_count": 112,
   "metadata": {},
   "outputs": [
    {
     "name": "stdout",
     "output_type": "stream",
     "text": [
      "5->4->3->2->1\n"
     ]
    }
   ],
   "source": [
    "def reverse(head):\n",
    "    curr= head\n",
    "    prev_node = None\n",
    "\n",
    "    if head == None:\n",
    "        return\n",
    "    while curr!= None:\n",
    "        next_node = curr.next\n",
    "        curr.next = prev_node\n",
    "        prev_node = curr\n",
    "        curr = next_node\n",
    "    \n",
    "    L.head = prev_node\n",
    "\n",
    "# L.reverse()\n",
    "reverse(L.head)\n",
    "print(L)\n",
    "       "
   ]
  }
 ],
 "metadata": {
  "kernelspec": {
   "display_name": "Python 3",
   "language": "python",
   "name": "python3"
  },
  "language_info": {
   "codemirror_mode": {
    "name": "ipython",
    "version": 3
   },
   "file_extension": ".py",
   "mimetype": "text/x-python",
   "name": "python",
   "nbconvert_exporter": "python",
   "pygments_lexer": "ipython3",
   "version": "3.11.4"
  }
 },
 "nbformat": 4,
 "nbformat_minor": 2
}
