{
 "cells": [
  {
   "cell_type": "markdown",
   "metadata": {},
   "source": [
    "A program to sum the numbers at odd position in the linked list"
   ]
  },
  {
   "cell_type": "code",
   "execution_count": 1,
   "metadata": {},
   "outputs": [],
   "source": [
    "class Node:\n",
    "    def __init__(self,data):\n",
    "        self.data = data\n",
    "        self.next = None"
   ]
  },
  {
   "cell_type": "code",
   "execution_count": 2,
   "metadata": {},
   "outputs": [],
   "source": [
    "class LinkedList:\n",
    "    def __init__(self):\n",
    "        self.head = None\n",
    "        self.n = 0\n",
    "    \n",
    "    def __str__(self):\n",
    "        curr = self.head\n",
    "        result =''\n",
    "        while curr != None:\n",
    "            result= result + str(curr.data) + '->'\n",
    "            curr = curr.next\n",
    "        return result[:-2]\n",
    "    \n",
    "    def insert(self,data):\n",
    "        new_node = Node(data)\n",
    "\n",
    "        if self.head == None:\n",
    "            self.head = new_node    \n",
    "        else:\n",
    "            curr = self.head\n",
    "            while curr.next != None:\n",
    "                curr=curr.next\n",
    "            curr.next = new_node\n",
    "        self.n = self.n+1  "
   ]
  },
  {
   "cell_type": "code",
   "execution_count": 3,
   "metadata": {},
   "outputs": [
    {
     "name": "stdout",
     "output_type": "stream",
     "text": [
      "1->2->3->4->5->6->7->8->9->10\n"
     ]
    }
   ],
   "source": [
    "L = LinkedList()\n",
    "\n",
    "L.insert(1)\n",
    "L.insert(2)\n",
    "L.insert(3)\n",
    "L.insert(4)\n",
    "L.insert(5)\n",
    "L.insert(6)\n",
    "L.insert(7)\n",
    "L.insert(8)\n",
    "L.insert(9)\n",
    "L.insert(10)\n",
    "\n",
    "print(L)"
   ]
  },
  {
   "cell_type": "code",
   "execution_count": 4,
   "metadata": {},
   "outputs": [
    {
     "name": "stdout",
     "output_type": "stream",
     "text": [
      "Sum of numbers at odd position is:  25\n"
     ]
    }
   ],
   "source": [
    "def odd_position_sum(head):\n",
    "    i = 0\n",
    "    sum = 0\n",
    "    curr = head\n",
    "    while curr!= None:\n",
    "        if i%2 == 0:\n",
    "            sum = sum + curr.data\n",
    "        i=i+1\n",
    "        curr = curr.next\n",
    "    \n",
    "    print(\"Sum of numbers at odd position is: \",sum)\n",
    "\n",
    "\n",
    "odd_position_sum(L.head)"
   ]
  },
  {
   "cell_type": "code",
   "execution_count": 5,
   "metadata": {},
   "outputs": [
    {
     "name": "stdout",
     "output_type": "stream",
     "text": [
      "1->2->3->4->5->6->7->8->9->10\n"
     ]
    }
   ],
   "source": [
    "print(L)"
   ]
  }
 ],
 "metadata": {
  "kernelspec": {
   "display_name": "Python 3",
   "language": "python",
   "name": "python3"
  },
  "language_info": {
   "codemirror_mode": {
    "name": "ipython",
    "version": 3
   },
   "file_extension": ".py",
   "mimetype": "text/x-python",
   "name": "python",
   "nbconvert_exporter": "python",
   "pygments_lexer": "ipython3",
   "version": "3.11.4"
  }
 },
 "nbformat": 4,
 "nbformat_minor": 2
}
