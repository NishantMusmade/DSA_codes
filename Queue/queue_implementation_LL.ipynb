{
 "cells": [
  {
   "cell_type": "code",
   "execution_count": 56,
   "metadata": {},
   "outputs": [],
   "source": [
    "class Node:\n",
    "    def __init__(self,data):\n",
    "        self.data = data\n",
    "        self.next = None"
   ]
  },
  {
   "cell_type": "code",
   "execution_count": 57,
   "metadata": {},
   "outputs": [],
   "source": [
    "class Queue:\n",
    "    def __init__(self):\n",
    "        self.front = None\n",
    "        self.rear = None\n",
    "    \n",
    "    def __str__(self):\n",
    "        curr = self.front\n",
    "        result = ''\n",
    "        while curr != None:\n",
    "            result = result + str(curr.data) + ' '\n",
    "            curr = curr.next\n",
    "        return result\n",
    "    \n",
    "    def enqueue(self,data):\n",
    "        new_node = Node(data)\n",
    "\n",
    "        if self.rear == None:\n",
    "            self.front = new_node\n",
    "            self.rear = new_node\n",
    "        else:\n",
    "            self.rear.next = new_node\n",
    "            self.rear = new_node\n",
    "    \n",
    "    def dequeue(self):\n",
    "        if self.front == None:\n",
    "            return 'Queue is empty'\n",
    "        else:\n",
    "            curr = self.front\n",
    "            temp = curr\n",
    "            self.front = curr.next\n",
    "            temp.next = None\n",
    "        print(f'Element removed from queue is {temp.data}')\n"
   ]
  },
  {
   "cell_type": "code",
   "execution_count": 58,
   "metadata": {},
   "outputs": [],
   "source": [
    "q = Queue()\n"
   ]
  },
  {
   "cell_type": "code",
   "execution_count": 59,
   "metadata": {},
   "outputs": [],
   "source": [
    "q.enqueue(10)\n",
    "q.enqueue(20)\n",
    "q.enqueue(30)\n",
    "q.enqueue(40)\n",
    "q.enqueue(50)\n"
   ]
  },
  {
   "cell_type": "code",
   "execution_count": 60,
   "metadata": {},
   "outputs": [
    {
     "name": "stdout",
     "output_type": "stream",
     "text": [
      "10 20 30 40 50 \n"
     ]
    }
   ],
   "source": [
    "print(q)"
   ]
  },
  {
   "cell_type": "code",
   "execution_count": 63,
   "metadata": {},
   "outputs": [
    {
     "name": "stdout",
     "output_type": "stream",
     "text": [
      "Element removed from queue is 40\n",
      "50 \n",
      "Element removed from queue is 50\n",
      "\n",
      "\n"
     ]
    }
   ],
   "source": [
    "q.dequeue()\n",
    "print(q)\n",
    "\n",
    "q.dequeue()\n",
    "print(q)\n",
    "\n",
    "q.dequeue()\n",
    "print(q)\n",
    "\n",
    "q.dequeue()\n",
    "print(q)\n",
    "\n",
    "q.dequeue()\n",
    "print(q)"
   ]
  },
  {
   "cell_type": "code",
   "execution_count": null,
   "metadata": {},
   "outputs": [],
   "source": []
  }
 ],
 "metadata": {
  "kernelspec": {
   "display_name": "Python 3",
   "language": "python",
   "name": "python3"
  },
  "language_info": {
   "codemirror_mode": {
    "name": "ipython",
    "version": 3
   },
   "file_extension": ".py",
   "mimetype": "text/x-python",
   "name": "python",
   "nbconvert_exporter": "python",
   "pygments_lexer": "ipython3",
   "version": "3.11.4"
  }
 },
 "nbformat": 4,
 "nbformat_minor": 2
}
