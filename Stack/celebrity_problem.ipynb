{
 "cells": [
  {
   "cell_type": "markdown",
   "metadata": {},
   "source": [
    "Celebrity problem\n",
    "\n",
    "The celebrity is a person who doesn't know anyone but everyone knows him\n",
    "\n",
    "If there all the persons knows at least one person other thsn himself, then there is no celebrity\n",
    "\n",
    "M[i][j] = 1 means ith person knows jth person"
   ]
  },
  {
   "cell_type": "code",
   "execution_count": 59,
   "metadata": {},
   "outputs": [],
   "source": [
    "class Node:\n",
    "    def __init__(self,data):\n",
    "        self.data = data\n",
    "        self.next = None"
   ]
  },
  {
   "cell_type": "code",
   "execution_count": 60,
   "metadata": {},
   "outputs": [],
   "source": [
    "class stack:\n",
    "    def __init__(self):\n",
    "        self.top = None\n",
    "        self.n = 0\n",
    "\n",
    "    def __str__(self):\n",
    "        curr = self.top\n",
    "        result = ''\n",
    "        while curr!=None:\n",
    "            result = result + str(curr.data) + '->'\n",
    "            curr = curr.next\n",
    "        \n",
    "        return result[:-2]\n",
    "\n",
    "    def isEmpty(self):\n",
    "        return self.top == None\n",
    "    \n",
    "    def size(self):\n",
    "        return self.n\n",
    "    \n",
    "    def peek(self):\n",
    "        if self.top == None:\n",
    "            print('List is empty')\n",
    "        else:\n",
    "            return self.top.data\n",
    "    \n",
    "    def push(self,data):\n",
    "        new_node = Node(data)\n",
    "        if self.top == None:\n",
    "            self.top = new_node\n",
    "        else:\n",
    "            new_node.next = self.top\n",
    "            self.top = new_node\n",
    "        self.n = self.n+1\n",
    "    \n",
    "    def pop(self):\n",
    "        if self.top == None:\n",
    "            return 'List is Empty'\n",
    "        else:\n",
    "            element = self.top\n",
    "            self.top = self.top.next\n",
    "            element.next = None\n",
    "        self.n = self.n-1\n",
    "\n",
    "        return element.data\n",
    "    "
   ]
  },
  {
   "cell_type": "code",
   "execution_count": 61,
   "metadata": {},
   "outputs": [
    {
     "name": "stdout",
     "output_type": "stream",
     "text": [
      "3->2->1->0\n"
     ]
    }
   ],
   "source": [
    "s = stack()\n",
    "\n",
    "input_matrix = [[0, 0, 1, 1], \n",
    "                [0, 0, 1, 1], \n",
    "                [0, 0, 1, 1], \n",
    "                [0, 0, 0, 0]]\n",
    "\n",
    "n = 4\n",
    "for i in range(n):\n",
    "    s.push(i)\n",
    "\n",
    "print(s)\n",
    "\n"
   ]
  },
  {
   "cell_type": "code",
   "execution_count": 62,
   "metadata": {},
   "outputs": [
    {
     "name": "stdout",
     "output_type": "stream",
     "text": [
      "Celebrity is:  3\n"
     ]
    }
   ],
   "source": [
    "def knows(a,b,input_matrix):\n",
    "    return input_matrix[a][b]\n",
    "\n",
    "# print(input_matrix)\n",
    "def findCelebrity(input_matrix):\n",
    "    while s.size() > 1:\n",
    "        a = s.peek()\n",
    "        s.pop()\n",
    "        b = s.peek()\n",
    "        s.pop()\n",
    "\n",
    "        if knows(a,b,input_matrix):\n",
    "            s.push(b)\n",
    "        else:\n",
    "            s.push(a)   \n",
    "        \n",
    "    #potential candidate\n",
    "    c = s.pop()\n",
    "\n",
    "    for i in range(n):\n",
    "        if i != c and (knows(c,i,input_matrix)  or knows(i,c,input_matrix)==False):\n",
    "            return -1\n",
    "    \n",
    "    return c\n",
    "\n",
    "\n",
    "celebrity = findCelebrity(input_matrix)\n",
    "if celebrity == -1:\n",
    "    print('There is no celebrity')\n",
    "else:\n",
    "    print('Celebrity is: ',celebrity)"
   ]
  }
 ],
 "metadata": {
  "kernelspec": {
   "display_name": "Python 3",
   "language": "python",
   "name": "python3"
  },
  "language_info": {
   "codemirror_mode": {
    "name": "ipython",
    "version": 3
   },
   "file_extension": ".py",
   "mimetype": "text/x-python",
   "name": "python",
   "nbconvert_exporter": "python",
   "pygments_lexer": "ipython3",
   "version": "3.11.4"
  }
 },
 "nbformat": 4,
 "nbformat_minor": 2
}
