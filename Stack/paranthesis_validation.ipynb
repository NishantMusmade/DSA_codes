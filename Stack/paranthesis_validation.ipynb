{
 "cells": [
  {
   "cell_type": "markdown",
   "metadata": {},
   "source": [
    "Paranthesis Validation:\n",
    "\n",
    "Number of opening brackets should be equal to the number of closing brackets\n",
    "\n",
    "[{()}] - valid\n",
    "\n",
    "[{()}  - invalid (closing square bracket is missing)\n",
    "\n"
   ]
  },
  {
   "cell_type": "code",
   "execution_count": 81,
   "metadata": {},
   "outputs": [],
   "source": [
    "class Node:\n",
    "    def __init__(self,data):\n",
    "        self.data = data\n",
    "        self.next = None"
   ]
  },
  {
   "cell_type": "code",
   "execution_count": 82,
   "metadata": {},
   "outputs": [],
   "source": [
    "class stack:\n",
    "    def __init__(self):\n",
    "        self.top = None\n",
    "        self.n = 0\n",
    "    \n",
    "    def __str__(self):\n",
    "        curr = self.top\n",
    "        result = ''\n",
    "        while curr!=None:\n",
    "            result = result + str(curr.data) + '->'\n",
    "            curr = curr.next\n",
    "        \n",
    "        return result[:-2]\n",
    "    \n",
    "    def isEmpty(self):\n",
    "        return self.top == None\n",
    "    \n",
    "    def push(self,data):\n",
    "        new_node = Node(data)\n",
    "        if self.top == None:\n",
    "            self.top = new_node\n",
    "        else:\n",
    "            new_node.next = self.top\n",
    "            self.top = new_node\n",
    "        self.n = self.n + 1\n",
    "    \n",
    "    def pop(self):\n",
    "        if self.isEmpty() == True:\n",
    "            print('Stack is empty')\n",
    "        else:\n",
    "            element = self.top\n",
    "            self.top = self.top.next\n",
    "            element.next = None\n",
    "        \n",
    "        self.n = self.n - 1\n",
    "\n",
    "        return element.data"
   ]
  },
  {
   "cell_type": "code",
   "execution_count": 83,
   "metadata": {},
   "outputs": [],
   "source": [
    "s = stack()\n",
    "\n",
    "input_string_1 = '{2+[3*2*(6+7)]+4}' #valid\n",
    "input_string_2 = '{2+[3*2*(6+7)]+4'  #invalid\n",
    "input_string_3 = '{2+[3*2*(6+7])+4}' #invalid\n",
    "input_string_4 = '({}[])'            #valid\n",
    "input_string_5 = '{[(])}'            #invalid\n",
    "\n"
   ]
  },
  {
   "cell_type": "code",
   "execution_count": 84,
   "metadata": {},
   "outputs": [
    {
     "name": "stdout",
     "output_type": "stream",
     "text": [
      "( ]\n"
     ]
    },
    {
     "data": {
      "text/plain": [
       "'Invalid parnathesis'"
      ]
     },
     "execution_count": 84,
     "metadata": {},
     "output_type": "execute_result"
    }
   ],
   "source": [
    "def validate(input_string):\n",
    "    flag = 0\n",
    "    for i in input_string:\n",
    "        if i == '[' or i=='{' or i=='(':\n",
    "            s.push(i)\n",
    "        elif i ==']' or i == '}' or i == ')':\n",
    "            element = s.pop()\n",
    "            print(element,i)\n",
    "            if element == '(' and i != ')':\n",
    "                return 'Invalid parnathesis'\n",
    "            elif element == '{' and i != '}':\n",
    "                return 'Invalid parnathesis'\n",
    "            elif element == '[' and i != ']':\n",
    "                return 'Invalid parnathesis'  \n",
    "    \n",
    "    if s.top!= None:\n",
    "        print('Element remaining in stack: ',s)\n",
    "        print('Invalid Paranthesis')\n",
    "    else:\n",
    "        print('Valid Paranthesis')\n",
    "\n",
    "validate(input_string_5)\n",
    "\n"
   ]
  },
  {
   "cell_type": "code",
   "execution_count": null,
   "metadata": {},
   "outputs": [],
   "source": []
  }
 ],
 "metadata": {
  "kernelspec": {
   "display_name": "Python 3",
   "language": "python",
   "name": "python3"
  },
  "language_info": {
   "codemirror_mode": {
    "name": "ipython",
    "version": 3
   },
   "file_extension": ".py",
   "mimetype": "text/x-python",
   "name": "python",
   "nbconvert_exporter": "python",
   "pygments_lexer": "ipython3",
   "version": "3.11.4"
  }
 },
 "nbformat": 4,
 "nbformat_minor": 2
}
