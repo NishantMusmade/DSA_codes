{
 "cells": [
  {
   "cell_type": "code",
   "execution_count": 97,
   "metadata": {},
   "outputs": [],
   "source": [
    "class Node:\n",
    "    def __init__(self,data):\n",
    "        self.data = data\n",
    "        self.next = None"
   ]
  },
  {
   "cell_type": "code",
   "execution_count": 98,
   "metadata": {},
   "outputs": [],
   "source": [
    "class stack:\n",
    "    def __init__(self):\n",
    "        self.top = None\n",
    "        self.n = 0\n",
    "    \n",
    "    def __str__(self):\n",
    "        curr = self.top\n",
    "        result = ''\n",
    "        while curr!=None:\n",
    "            result = result + str(curr.data) + '->'\n",
    "            curr = curr.next\n",
    "        \n",
    "        return result[:-2]\n",
    "    \n",
    "    def isEmpty(self):\n",
    "        return self.top == None\n",
    "    \n",
    "    def push(self,data):\n",
    "        new_node = Node(data)\n",
    "        if self.top == None:\n",
    "            self.top = new_node\n",
    "        else:\n",
    "            new_node.next = self.top\n",
    "            self.top = new_node\n",
    "        self.n = self.n + 1\n",
    "    \n",
    "    def pop(self):\n",
    "        if self.isEmpty() == True:\n",
    "            print('Stack is empty')\n",
    "        else:\n",
    "            element = self.top\n",
    "            self.top = self.top.next\n",
    "            element.next = None\n",
    "        \n",
    "        self.n = self.n - 1\n",
    "\n",
    "        return element.data\n",
    "\n",
    "    \n",
    "    def size(self):\n",
    "        return self.n\n",
    "    \n",
    "    def peek(self):\n",
    "        if self.isEmpty():\n",
    "            print('Stack is empty')\n",
    "        else:\n",
    "            return self.top.data\n",
    "\n",
    "\n"
   ]
  },
  {
   "cell_type": "code",
   "execution_count": 99,
   "metadata": {},
   "outputs": [],
   "source": [
    "s = stack()"
   ]
  },
  {
   "cell_type": "code",
   "execution_count": 100,
   "metadata": {},
   "outputs": [
    {
     "data": {
      "text/plain": [
       "True"
      ]
     },
     "execution_count": 100,
     "metadata": {},
     "output_type": "execute_result"
    }
   ],
   "source": [
    "s.isEmpty()"
   ]
  },
  {
   "cell_type": "code",
   "execution_count": 101,
   "metadata": {},
   "outputs": [
    {
     "name": "stdout",
     "output_type": "stream",
     "text": [
      "Cuurent stack:  50->40->30->20->10\n",
      "Is stack empty:  False\n",
      "Size of stack:  5\n",
      "Current top of the stack:  50\n"
     ]
    }
   ],
   "source": [
    "s.push(10)\n",
    "s.push(20)\n",
    "s.push(30)\n",
    "s.push(40)\n",
    "s.push(50)\n",
    "\n",
    "print('Cuurent stack: ',s)\n",
    "\n",
    "print('Is stack empty: ',s.isEmpty())\n",
    "\n",
    "print('Size of stack: ',s.size())\n",
    "\n",
    "print('Current top of the stack: ',s.peek())\n",
    "\n"
   ]
  },
  {
   "cell_type": "code",
   "execution_count": 102,
   "metadata": {},
   "outputs": [
    {
     "name": "stdout",
     "output_type": "stream",
     "text": [
      "Popped element:  50\n",
      "stack after popping 50:  40->30->20->10\n",
      "Size of stack:  4\n",
      "Current top of the stack:  40\n"
     ]
    }
   ],
   "source": [
    "#popping elements\n",
    "element = s.pop()\n",
    "print('Popped element: ',element)\n",
    "print(f'stack after popping {element}: ',s)\n",
    "print('Size of stack: ',s.size())\n",
    "print('Current top of the stack: ',s.peek())"
   ]
  },
  {
   "cell_type": "code",
   "execution_count": 103,
   "metadata": {},
   "outputs": [
    {
     "name": "stdout",
     "output_type": "stream",
     "text": [
      "Popped element:  40\n",
      "stack after popping 40:  30->20->10\n",
      "Size of stack:  3\n",
      "Current top of the stack:  30\n"
     ]
    }
   ],
   "source": [
    "#popping another element\n",
    "element = s.pop()\n",
    "print('Popped element: ',element)\n",
    "print(f'stack after popping {element}: ',s)\n",
    "print('Size of stack: ',s.size())\n",
    "print('Current top of the stack: ',s.peek())"
   ]
  },
  {
   "cell_type": "code",
   "execution_count": 104,
   "metadata": {},
   "outputs": [
    {
     "name": "stdout",
     "output_type": "stream",
     "text": [
      "Popped element:  30\n",
      "Popped element:  20\n",
      "Popped element:  10\n",
      "Size of stack:  0\n",
      "Stack is empty\n",
      "Current top of the stack:  None\n"
     ]
    }
   ],
   "source": [
    "#popping all element\n",
    "print('Popped element: ',s.pop())\n",
    "print('Popped element: ',s.pop())\n",
    "print('Popped element: ',s.pop())\n",
    "\n",
    "print('Size of stack: ',s.size())\n",
    "print('Current top of the stack: ',s.peek())"
   ]
  },
  {
   "cell_type": "code",
   "execution_count": null,
   "metadata": {},
   "outputs": [],
   "source": []
  },
  {
   "cell_type": "code",
   "execution_count": null,
   "metadata": {},
   "outputs": [],
   "source": []
  }
 ],
 "metadata": {
  "kernelspec": {
   "display_name": "Python 3",
   "language": "python",
   "name": "python3"
  },
  "language_info": {
   "codemirror_mode": {
    "name": "ipython",
    "version": 3
   },
   "file_extension": ".py",
   "mimetype": "text/x-python",
   "name": "python",
   "nbconvert_exporter": "python",
   "pygments_lexer": "ipython3",
   "version": "3.11.4"
  }
 },
 "nbformat": 4,
 "nbformat_minor": 2
}
