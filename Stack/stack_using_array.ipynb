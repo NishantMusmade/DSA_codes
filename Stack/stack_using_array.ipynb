{
 "cells": [
  {
   "cell_type": "code",
   "execution_count": 87,
   "metadata": {},
   "outputs": [],
   "source": [
    "class stack:\n",
    "    def __init__(self,size):\n",
    "        self. size = size\n",
    "        self.stack = [None]*self.size\n",
    "        self.top = -1\n",
    "\n",
    "    def __str__(self):\n",
    "        return str(self.stack)\n",
    "    \n",
    "    def isEmpty(self):\n",
    "        if self.top == -1:\n",
    "            return 'Stack is empty'\n",
    "    \n",
    "    def isFull(self):\n",
    "        if self.top == self.size -1:\n",
    "            return 'Stack is Full'\n",
    "    \n",
    "    def stack_size(self):\n",
    "        return self.top + 1\n",
    "\n",
    "    def peek(self):\n",
    "        return self.stack[self.top]\n",
    "    \n",
    "    def push(self,data):\n",
    "        if self.isFull():\n",
    "            return 'Stack Overflow'\n",
    "        else:\n",
    "            self.top = self.top + 1\n",
    "            self.stack[self.top] = data\n",
    "    \n",
    "    def pop(self):\n",
    "        if self.isEmpty():\n",
    "            return \"Stack Underflow\"\n",
    "\n",
    "        element = self.stack[self.top]\n",
    "        self.top = self.top - 1\n",
    "        return element\n",
    "    \n",
    "    def traverse(self):\n",
    "        if self.isEmpty():\n",
    "            return \"Stack is empty\"\n",
    "        for i in range(self.top+1):\n",
    "            print(self.stack[i],end = ' ')\n",
    "            "
   ]
  },
  {
   "cell_type": "code",
   "execution_count": 88,
   "metadata": {},
   "outputs": [
    {
     "name": "stdout",
     "output_type": "stream",
     "text": [
      "Initial stack:  Stack is empty\n",
      "\n",
      "After pushing elelemnts: \n",
      "10 20 30 40 50 "
     ]
    }
   ],
   "source": [
    "s = stack(5)\n",
    "\n",
    "print('Initial stack: ',s.traverse())\n",
    "\n",
    "#pushing elements\n",
    "s.push(10)\n",
    "s.push(20)\n",
    "s.push(30)\n",
    "s.push(40)\n",
    "s.push(50)\n",
    "print('\\nAfter pushing elelemnts: ')\n",
    "s.traverse()\n"
   ]
  },
  {
   "cell_type": "code",
   "execution_count": 89,
   "metadata": {},
   "outputs": [
    {
     "data": {
      "text/plain": [
       "'Stack Overflow'"
      ]
     },
     "execution_count": 89,
     "metadata": {},
     "output_type": "execute_result"
    }
   ],
   "source": [
    "#stack overflow conditon\n",
    "s.push(60)"
   ]
  },
  {
   "cell_type": "code",
   "execution_count": 90,
   "metadata": {},
   "outputs": [
    {
     "name": "stdout",
     "output_type": "stream",
     "text": [
      "Size of the stack:  5\n",
      "Top of the stack:  50\n"
     ]
    }
   ],
   "source": [
    "print('Size of the stack: ',s.stack_size())\n",
    "print('Top of the stack: ',s.peek())"
   ]
  },
  {
   "cell_type": "code",
   "execution_count": 91,
   "metadata": {},
   "outputs": [
    {
     "name": "stdout",
     "output_type": "stream",
     "text": [
      "50\n",
      "40\n",
      "30\n",
      "20\n",
      "10\n",
      "Stack Underflow\n"
     ]
    },
    {
     "data": {
      "text/plain": [
       "'Stack is empty'"
      ]
     },
     "execution_count": 91,
     "metadata": {},
     "output_type": "execute_result"
    }
   ],
   "source": [
    "print(s.pop())\n",
    "print(s.pop())\n",
    "print(s.pop())\n",
    "print(s.pop())\n",
    "print(s.pop())\n",
    "print(s.pop())   #here stack will be empty\n",
    "\n",
    "s.traverse()\n",
    "\n",
    "\n"
   ]
  },
  {
   "cell_type": "code",
   "execution_count": null,
   "metadata": {},
   "outputs": [],
   "source": []
  }
 ],
 "metadata": {
  "kernelspec": {
   "display_name": "Python 3",
   "language": "python",
   "name": "python3"
  },
  "language_info": {
   "codemirror_mode": {
    "name": "ipython",
    "version": 3
   },
   "file_extension": ".py",
   "mimetype": "text/x-python",
   "name": "python",
   "nbconvert_exporter": "python",
   "pygments_lexer": "ipython3",
   "version": "3.11.4"
  }
 },
 "nbformat": 4,
 "nbformat_minor": 2
}
