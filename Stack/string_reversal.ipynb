{
 "cells": [
  {
   "cell_type": "markdown",
   "metadata": {},
   "source": [
    "String reversal using stack "
   ]
  },
  {
   "cell_type": "code",
   "execution_count": 40,
   "metadata": {},
   "outputs": [],
   "source": [
    "class Node:\n",
    "    def __init__(self,data):\n",
    "        self.data = data\n",
    "        self.next = None\n",
    "        "
   ]
  },
  {
   "cell_type": "code",
   "execution_count": 41,
   "metadata": {},
   "outputs": [],
   "source": [
    "class stack:\n",
    "    def __init__(self):\n",
    "        self.top = None\n",
    "        self.n = 0\n",
    "\n",
    "    def __str__(self):\n",
    "        curr = self.top\n",
    "        result = ''\n",
    "        while curr!=None:\n",
    "            result = result + str(curr.data) + '->'\n",
    "            curr = curr.next\n",
    "        \n",
    "        return result[:-2]\n",
    "\n",
    "    def isEmpty(self):\n",
    "        return self.top == None\n",
    "    \n",
    "    def size(self):\n",
    "        return self.n\n",
    "    \n",
    "    def peek(self):\n",
    "        if self.top == None:\n",
    "            print('List is empty')\n",
    "        else:\n",
    "            return self.top.data\n",
    "    \n",
    "    def push(self,data):\n",
    "        new_node = Node(data)\n",
    "        if self.top == None:\n",
    "            self.top = new_node\n",
    "        else:\n",
    "            new_node.next = self.top\n",
    "            self.top = new_node\n",
    "        self.n = self.n+1\n",
    "    \n",
    "    def pop(self):\n",
    "        if self.top == None:\n",
    "            return 'List is Empty'\n",
    "        else:\n",
    "            element = self.top\n",
    "            self.top = self.top.next\n",
    "            element.next = None\n",
    "        self.n = self.n-1\n",
    "\n",
    "        return element.data\n",
    "    \n",
    "    def reverse(self):\n",
    "        result = ''\n",
    "        while self.isEmpty() != True:\n",
    "            popped_element= self.pop()\n",
    "            result = result +str(popped_element)\n",
    "        \n",
    "        return result\n",
    "        \n",
    "\n",
    "\n",
    "    "
   ]
  },
  {
   "cell_type": "code",
   "execution_count": 42,
   "metadata": {},
   "outputs": [
    {
     "name": "stdout",
     "output_type": "stream",
     "text": [
      "d->l->r->o->W-> ->o->l->l->e->H\n"
     ]
    }
   ],
   "source": [
    "s = stack()\n",
    "\n",
    "original_string = 'Hello World'\n",
    "\n",
    "for i in original_string:\n",
    "    s.push(i)\n",
    "\n",
    "print(s)"
   ]
  },
  {
   "cell_type": "code",
   "execution_count": 43,
   "metadata": {},
   "outputs": [
    {
     "data": {
      "text/plain": [
       "'dlroW olleH'"
      ]
     },
     "execution_count": 43,
     "metadata": {},
     "output_type": "execute_result"
    }
   ],
   "source": [
    "s.reverse()"
   ]
  }
 ],
 "metadata": {
  "kernelspec": {
   "display_name": "Python 3",
   "language": "python",
   "name": "python3"
  },
  "language_info": {
   "codemirror_mode": {
    "name": "ipython",
    "version": 3
   },
   "file_extension": ".py",
   "mimetype": "text/x-python",
   "name": "python",
   "nbconvert_exporter": "python",
   "pygments_lexer": "ipython3",
   "version": "3.11.4"
  }
 },
 "nbformat": 4,
 "nbformat_minor": 2
}
