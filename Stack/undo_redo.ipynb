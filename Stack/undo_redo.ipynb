{
 "cells": [
  {
   "cell_type": "markdown",
   "metadata": {},
   "source": [
    "Undo redo operations using stack\n",
    "\n",
    "Example:\n",
    "Suppose you have a string, 'Hello'\n",
    "u-undo, r-redo\n",
    "lets consider the input for undo and redo is 'uurr'\n",
    "\n",
    "This operation will work as following\n",
    "operation     String\n",
    "    u           Hell\n",
    "    u           Hel\n",
    "    r           Hell\n",
    "    r           Hello\n",
    "\n",
    "So we need to maintain two stack, one for input string and one for popped element\n"
   ]
  },
  {
   "cell_type": "code",
   "execution_count": 109,
   "metadata": {},
   "outputs": [],
   "source": [
    "class Node:\n",
    "    def __init__(self,data):\n",
    "        self.data = data\n",
    "        self.next = None\n",
    "            "
   ]
  },
  {
   "cell_type": "code",
   "execution_count": 110,
   "metadata": {},
   "outputs": [],
   "source": [
    "class stack:\n",
    "    def __init__(self):\n",
    "        self.top = None\n",
    "        self.n = 0\n",
    "\n",
    "    def __str__(self):\n",
    "        curr = self.top\n",
    "        result = ''\n",
    "        while curr!=None:\n",
    "            result = result + str(curr.data) + '->'\n",
    "            curr = curr.next\n",
    "        \n",
    "        return result[:-2]\n",
    "\n",
    "    def isEmpty(self):\n",
    "        return self.top == None\n",
    "    \n",
    "    def size(self):\n",
    "        return self.n\n",
    "    \n",
    "    def peek(self):\n",
    "        if self.top == None:\n",
    "            print('List is empty')\n",
    "        else:\n",
    "            return self.top.data\n",
    "    \n",
    "    def push(self,data):\n",
    "        new_node = Node(data)\n",
    "        if self.top == None:\n",
    "            self.top = new_node\n",
    "        else:\n",
    "            new_node.next = self.top\n",
    "            self.top = new_node\n",
    "        self.n = self.n+1\n",
    "    \n",
    "    def pop(self):\n",
    "        if self.top == None:\n",
    "            return 'List is Empty'\n",
    "        else:\n",
    "            element = self.top\n",
    "            self.top = self.top.next\n",
    "            element.next = None\n",
    "        self.n = self.n-1\n",
    "\n",
    "        return element.data\n",
    "    \n",
    "    def display(self):\n",
    "        curr = self.top\n",
    "        result = ''\n",
    "        while curr!=None:\n",
    "            result = str(curr.data) + result\n",
    "            curr = curr.next\n",
    "        \n",
    "        return result"
   ]
  },
  {
   "cell_type": "code",
   "execution_count": 111,
   "metadata": {},
   "outputs": [],
   "source": [
    "s_input = stack()\n",
    "\n",
    "s_popped = stack()\n"
   ]
  },
  {
   "cell_type": "code",
   "execution_count": 112,
   "metadata": {},
   "outputs": [
    {
     "name": "stdout",
     "output_type": "stream",
     "text": [
      "o->l->l->e->H\n"
     ]
    }
   ],
   "source": [
    "input_string = 'Hello'\n",
    "\n",
    "for i in input_string:\n",
    "    s_input.push(i)\n",
    "\n",
    "print(s_input)"
   ]
  },
  {
   "cell_type": "code",
   "execution_count": 113,
   "metadata": {},
   "outputs": [
    {
     "name": "stdout",
     "output_type": "stream",
     "text": [
      "Input string is:  Hello\n",
      "\n",
      "Redo operation is performed:  Hello\n",
      "Undo operation is performed:  Hell\n",
      "Undo operation is performed:  Hel\n",
      "Undo operation is performed:  He\n"
     ]
    }
   ],
   "source": [
    "def undo_redo(operation_input):\n",
    "    print('Input string is: ',s_input.display())\n",
    "    print()\n",
    "\n",
    "    for i in operation_input:\n",
    "        if i == 'u':\n",
    "            element=s_input.pop()\n",
    "            s_popped.push(element)\n",
    "            print('Undo operation is performed: ',s_input.display())\n",
    "        else:\n",
    "            # if undo is not performed before redo, there will be no changes\n",
    "            if s_popped.top == None:\n",
    "                print('Redo operation is performed: ',s_input.display())\n",
    "            else:\n",
    "                element = s_popped.pop()\n",
    "                s_input.push(element)\n",
    "                print('Redo operation is performed: ',s_input.display())\n",
    "\n",
    "operation_input = 'ruuu'\n",
    "undo_redo(operation_input)\n"
   ]
  }
 ],
 "metadata": {
  "kernelspec": {
   "display_name": "Python 3",
   "language": "python",
   "name": "python3"
  },
  "language_info": {
   "codemirror_mode": {
    "name": "ipython",
    "version": 3
   },
   "file_extension": ".py",
   "mimetype": "text/x-python",
   "name": "python",
   "nbconvert_exporter": "python",
   "pygments_lexer": "ipython3",
   "version": "3.11.4"
  }
 },
 "nbformat": 4,
 "nbformat_minor": 2
}
