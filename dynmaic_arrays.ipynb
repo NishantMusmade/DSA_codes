{
 "cells": [
  {
   "cell_type": "code",
   "execution_count": 43,
   "metadata": {},
   "outputs": [],
   "source": [
    "import ctypes"
   ]
  },
  {
   "cell_type": "code",
   "execution_count": 129,
   "metadata": {},
   "outputs": [],
   "source": [
    "class mylist:\n",
    "    def __init__(self):\n",
    "        self.size = 1\n",
    "        self.n = 0\n",
    "        #create C type array with size = self.size\n",
    "        self.A = self.__make_array(self.size)\n",
    "\n",
    "    def __len__(self):\n",
    "        return self.n\n",
    "    \n",
    "    def __str__(self):\n",
    "        result = ''\n",
    "        for i in range(self.n):\n",
    "            result = result + str(self.A[i]) + ','\n",
    "        \n",
    "        return '['+result[:-1]+']'\n",
    "    \n",
    "    def __getitem__(self,index):\n",
    "        if 0<= index < self.n:\n",
    "            return self.A[index]\n",
    "        else:\n",
    "            return 'IndexError - List index out of range'\n",
    "        \n",
    "    def __delitem__(self,pos):\n",
    "        if 0<=pos<self.n:\n",
    "            for i in range(pos,self.n -1):\n",
    "                self.A[i]=self.A[i+1]\n",
    "            \n",
    "            self.n = self.n-1\n",
    "        \n",
    "    def pop(self):\n",
    "        if self.n==0:\n",
    "            return 'EmptyList'\n",
    "        else:\n",
    "            print(self.A[self.n-1])\n",
    "            self.n=self.n -1\n",
    "    \n",
    "    def clear(self):\n",
    "        self.n = 0\n",
    "        self.size =1\n",
    "\n",
    "    def index(self,item):\n",
    "        for i in range(self.n):\n",
    "            if self.A[i]==item:\n",
    "                return i\n",
    "        return 'ValueError- not in the list'\n",
    "    \n",
    "    def insert(self,pos,item):\n",
    "        if self.n == self.size:\n",
    "            self.__resize(self.size+8)\n",
    "        \n",
    "        for i in range(self.n,pos,-1):\n",
    "            self.A[i] = self.A[i-1]\n",
    "\n",
    "        self.A[pos] = item\n",
    "        self.n = self.n + 1\n",
    "\n",
    "    def remove(self,item):\n",
    "        pos = self.index(item)\n",
    "\n",
    "        if type(pos)== int:\n",
    "            self.__delitem__(pos)\n",
    "        else:\n",
    "            return pos\n",
    "        \n",
    "        \n",
    "\n",
    "\n",
    "    def append(self,item):\n",
    "        if self.size == self.n:\n",
    "            #resize\n",
    "            B = self.__resize(self.size+8)\n",
    "\n",
    "        #append\n",
    "        self.A[self.n] = item\n",
    "        self.n = self.n+1\n",
    "\n",
    "    def __resize(self,new_capacity):\n",
    "        #create new array with new capacity\n",
    "        B = self.__make_array(new_capacity)\n",
    "        self.size = new_capacity\n",
    "\n",
    "        #copy elements from previous array i.e., A to B\n",
    "        for i in range(self.n):\n",
    "            B[i] = self.A[i]\n",
    "\n",
    "        #reassign\n",
    "        self.A = B\n",
    "\n",
    "    \n",
    "    def __make_array(self,capacity):\n",
    "        # create C type array(static and referential) with size capacity\n",
    "        return (capacity*ctypes.py_object)()"
   ]
  },
  {
   "cell_type": "code",
   "execution_count": 130,
   "metadata": {},
   "outputs": [],
   "source": [
    "L = mylist()"
   ]
  },
  {
   "cell_type": "code",
   "execution_count": 131,
   "metadata": {},
   "outputs": [],
   "source": [
    "L.append('Hello')\n",
    "L.append(1)\n",
    "L.append(2)"
   ]
  },
  {
   "cell_type": "code",
   "execution_count": 132,
   "metadata": {},
   "outputs": [
    {
     "data": {
      "text/plain": [
       "3"
      ]
     },
     "execution_count": 132,
     "metadata": {},
     "output_type": "execute_result"
    }
   ],
   "source": [
    "len(L)"
   ]
  },
  {
   "cell_type": "code",
   "execution_count": 133,
   "metadata": {},
   "outputs": [
    {
     "name": "stdout",
     "output_type": "stream",
     "text": [
      "[Hello,1,2]\n"
     ]
    }
   ],
   "source": [
    "print(L)"
   ]
  },
  {
   "cell_type": "code",
   "execution_count": 134,
   "metadata": {},
   "outputs": [
    {
     "name": "stdout",
     "output_type": "stream",
     "text": [
      "Hello\n",
      "1\n",
      "2\n",
      "IndexError - List index out of range\n"
     ]
    }
   ],
   "source": [
    "print(L[0])\n",
    "print(L[1])\n",
    "print(L[2])\n",
    "print(L[3])  # this will give error"
   ]
  },
  {
   "cell_type": "code",
   "execution_count": 135,
   "metadata": {},
   "outputs": [
    {
     "name": "stdout",
     "output_type": "stream",
     "text": [
      "2\n"
     ]
    }
   ],
   "source": [
    "L.pop()\n"
   ]
  },
  {
   "cell_type": "code",
   "execution_count": 136,
   "metadata": {},
   "outputs": [
    {
     "name": "stdout",
     "output_type": "stream",
     "text": [
      "[Hello,1]\n"
     ]
    }
   ],
   "source": [
    "print(L)"
   ]
  },
  {
   "cell_type": "code",
   "execution_count": 137,
   "metadata": {},
   "outputs": [
    {
     "name": "stdout",
     "output_type": "stream",
     "text": [
      "1\n",
      "Hello\n",
      "[]\n"
     ]
    }
   ],
   "source": [
    "#popping all elements\n",
    "L.pop()\n",
    "L.pop()\n",
    "print(L)  #empty list"
   ]
  },
  {
   "cell_type": "code",
   "execution_count": 138,
   "metadata": {},
   "outputs": [],
   "source": [
    "#adding elements for further operation\n",
    "L.append('Hello')\n",
    "L.append(1)\n",
    "L.append(2)"
   ]
  },
  {
   "cell_type": "code",
   "execution_count": 139,
   "metadata": {},
   "outputs": [
    {
     "name": "stdout",
     "output_type": "stream",
     "text": [
      "[Hello,1,2]\n"
     ]
    }
   ],
   "source": [
    "print(L)"
   ]
  },
  {
   "cell_type": "code",
   "execution_count": 140,
   "metadata": {},
   "outputs": [
    {
     "name": "stdout",
     "output_type": "stream",
     "text": [
      "[]\n"
     ]
    }
   ],
   "source": [
    "L.clear()\n",
    "print(L)"
   ]
  },
  {
   "cell_type": "code",
   "execution_count": 141,
   "metadata": {},
   "outputs": [],
   "source": [
    "#adding elements for further operation\n",
    "L.append('Hello')\n",
    "L.append(1)\n",
    "L.append(2)"
   ]
  },
  {
   "cell_type": "code",
   "execution_count": 142,
   "metadata": {},
   "outputs": [
    {
     "name": "stdout",
     "output_type": "stream",
     "text": [
      "0\n",
      "1\n",
      "ValueError- not in the list\n"
     ]
    }
   ],
   "source": [
    "print(L.index('Hello'))\n",
    "print(L.index(1))\n",
    "print(L.index(100))  #gives error\n"
   ]
  },
  {
   "cell_type": "code",
   "execution_count": 143,
   "metadata": {},
   "outputs": [
    {
     "name": "stdout",
     "output_type": "stream",
     "text": [
      "[Hello,100,1,2]\n"
     ]
    }
   ],
   "source": [
    "#inserting 100 at index 1\n",
    "L.insert(1,100)\n",
    "print(L)"
   ]
  },
  {
   "cell_type": "code",
   "execution_count": 144,
   "metadata": {},
   "outputs": [
    {
     "name": "stdout",
     "output_type": "stream",
     "text": [
      "[Hello,100,1,2,200]\n"
     ]
    }
   ],
   "source": [
    "#inserting 200 at last\n",
    "L.insert(4,200)\n",
    "print(L)"
   ]
  },
  {
   "cell_type": "code",
   "execution_count": 145,
   "metadata": {},
   "outputs": [
    {
     "name": "stdout",
     "output_type": "stream",
     "text": [
      "[100,1,2,200]\n"
     ]
    }
   ],
   "source": [
    "del L[0]\n",
    "print(L)"
   ]
  },
  {
   "cell_type": "code",
   "execution_count": 146,
   "metadata": {},
   "outputs": [
    {
     "name": "stdout",
     "output_type": "stream",
     "text": [
      "[100,1,2]\n"
     ]
    }
   ],
   "source": [
    "del L[3]\n",
    "print(L)"
   ]
  },
  {
   "cell_type": "code",
   "execution_count": 147,
   "metadata": {},
   "outputs": [
    {
     "name": "stdout",
     "output_type": "stream",
     "text": [
      "[100,1,2]\n"
     ]
    }
   ],
   "source": [
    "#nothing will change if index is out of range\n",
    "del L[1000]\n",
    "print(L)"
   ]
  },
  {
   "cell_type": "code",
   "execution_count": 148,
   "metadata": {},
   "outputs": [
    {
     "name": "stdout",
     "output_type": "stream",
     "text": [
      "[1,2]\n"
     ]
    }
   ],
   "source": [
    "L.remove(100)\n",
    "print(L)"
   ]
  },
  {
   "cell_type": "code",
   "execution_count": 149,
   "metadata": {},
   "outputs": [
    {
     "data": {
      "text/plain": [
       "'ValueError- not in the list'"
      ]
     },
     "execution_count": 149,
     "metadata": {},
     "output_type": "execute_result"
    }
   ],
   "source": [
    "L.remove(300)"
   ]
  },
  {
   "cell_type": "code",
   "execution_count": null,
   "metadata": {},
   "outputs": [],
   "source": []
  }
 ],
 "metadata": {
  "kernelspec": {
   "display_name": "Python 3",
   "language": "python",
   "name": "python3"
  },
  "language_info": {
   "codemirror_mode": {
    "name": "ipython",
    "version": 3
   },
   "file_extension": ".py",
   "mimetype": "text/x-python",
   "name": "python",
   "nbconvert_exporter": "python",
   "pygments_lexer": "ipython3",
   "version": "3.11.4"
  }
 },
 "nbformat": 4,
 "nbformat_minor": 2
}
