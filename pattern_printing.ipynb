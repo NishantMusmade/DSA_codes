{
 "cells": [
  {
   "cell_type": "code",
   "execution_count": 78,
   "metadata": {},
   "outputs": [],
   "source": [
    "#problem statement\n",
    "#LL = 1->2->3->4->5    Output: 1234321\n",
    "#LL = 5->4->3->2->1    Output: 5432345"
   ]
  },
  {
   "cell_type": "code",
   "execution_count": 79,
   "metadata": {},
   "outputs": [],
   "source": [
    "class Node:\n",
    "    def __init__(self,value):\n",
    "        self.value = value\n",
    "        self.next = None"
   ]
  },
  {
   "cell_type": "code",
   "execution_count": 80,
   "metadata": {},
   "outputs": [],
   "source": [
    "class Linked_list:\n",
    "    def __init__(self):\n",
    "        self.head = None\n",
    "        self.n = 0\n",
    "\n",
    "    def __len__(self):\n",
    "        return self.n\n",
    "    \n",
    "    def __str__(self):\n",
    "        curr= self.head \n",
    "        result = ''\n",
    "        while curr != None:\n",
    "            result = result + str(curr.value) + '->'\n",
    "            curr=curr.next\n",
    "        return result[:-2]\n",
    "    \n",
    "    def insert(self,value):\n",
    "        new_node = Node(value)\n",
    "        if self.head == None:\n",
    "            self.head = new_node\n",
    "            self.n=self.n + 1\n",
    "        else:\n",
    "            curr = self.head\n",
    "            while curr.next != None:\n",
    "                curr = curr.next\n",
    "            curr.next = new_node\n",
    "            self.n=self.n + 1\n",
    "\n",
    "    def pattern(self):\n"
   ]
  },
  {
   "cell_type": "code",
   "execution_count": 81,
   "metadata": {},
   "outputs": [
    {
     "name": "stdout",
     "output_type": "stream",
     "text": [
      "\n"
     ]
    },
    {
     "data": {
      "text/plain": [
       "0"
      ]
     },
     "execution_count": 81,
     "metadata": {},
     "output_type": "execute_result"
    }
   ],
   "source": [
    "L = Linked_list()\n",
    "print(L)\n",
    "len(L)"
   ]
  },
  {
   "cell_type": "code",
   "execution_count": 82,
   "metadata": {},
   "outputs": [
    {
     "name": "stdout",
     "output_type": "stream",
     "text": [
      "5\n",
      "1->2->3->4->5\n"
     ]
    }
   ],
   "source": [
    "L.insert(1)\n",
    "L.insert(2)\n",
    "L.insert(3)\n",
    "L.insert(4)\n",
    "L.insert(5)\n",
    "\n",
    "print(len(L))\n",
    "print(L)"
   ]
  },
  {
   "cell_type": "code",
   "execution_count": 83,
   "metadata": {},
   "outputs": [
    {
     "name": "stdout",
     "output_type": "stream",
     "text": [
      "<__main__.Node object at 0x00000110FF566BD0>\n"
     ]
    }
   ],
   "source": []
  },
  {
   "cell_type": "code",
   "execution_count": null,
   "metadata": {},
   "outputs": [],
   "source": []
  }
 ],
 "metadata": {
  "kernelspec": {
   "display_name": "Python 3",
   "language": "python",
   "name": "python3"
  },
  "language_info": {
   "codemirror_mode": {
    "name": "ipython",
    "version": 3
   },
   "file_extension": ".py",
   "mimetype": "text/x-python",
   "name": "python",
   "nbconvert_exporter": "python",
   "pygments_lexer": "ipython3",
   "version": "3.11.4"
  }
 },
 "nbformat": 4,
 "nbformat_minor": 2
}
