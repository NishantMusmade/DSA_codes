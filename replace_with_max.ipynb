{
 "cells": [
  {
   "cell_type": "markdown",
   "metadata": {},
   "source": [
    "Replace maximum number in the linked list with the given value"
   ]
  },
  {
   "cell_type": "code",
   "execution_count": 16,
   "metadata": {},
   "outputs": [],
   "source": [
    "class Node:\n",
    "    def __init__(self,data):\n",
    "        self.data= data\n",
    "        self.next = None"
   ]
  },
  {
   "cell_type": "code",
   "execution_count": 17,
   "metadata": {},
   "outputs": [],
   "source": [
    "class linkedList:\n",
    "    def __init__(self):\n",
    "        self.head = None\n",
    "        self.n = 0\n",
    "    \n",
    "    def __str__(self):\n",
    "        curr = self.head\n",
    "\n",
    "        result =''\n",
    "        while curr!=None:\n",
    "            result = result + str(curr.data)+ '->'\n",
    "            curr=curr.next\n",
    "        return result[:-2]\n",
    "\n",
    "    #inserting element at tail\n",
    "    def insert(self,data):\n",
    "        new_node = Node(data)\n",
    "        if self.head == None:\n",
    "            self.head = new_node\n",
    "            self.n = self.n+1\n",
    "        else:\n",
    "            curr = self.head\n",
    "            while curr.next!= None:\n",
    "                curr = curr.next\n",
    "            curr.next = new_node\n",
    "            self.n = self.n+1\n",
    "        \n"
   ]
  },
  {
   "cell_type": "code",
   "execution_count": 18,
   "metadata": {},
   "outputs": [
    {
     "name": "stdout",
     "output_type": "stream",
     "text": [
      "32->67->90->76->12\n"
     ]
    }
   ],
   "source": [
    "L = linkedList()\n",
    "\n",
    "L.insert(32)\n",
    "L.insert(67)\n",
    "L.insert(90)\n",
    "L.insert(76)\n",
    "L.insert(12)\n",
    "\n",
    "print(L)"
   ]
  },
  {
   "cell_type": "code",
   "execution_count": 19,
   "metadata": {},
   "outputs": [
    {
     "name": "stdout",
     "output_type": "stream",
     "text": [
      "32->67->37->76->12\n"
     ]
    }
   ],
   "source": [
    "def replace_with_max(value):\n",
    "    temp = L.head\n",
    "    max = temp\n",
    "\n",
    "    while temp!= None:\n",
    "        if temp.data>max.data:\n",
    "            max = temp\n",
    "        temp = temp.next\n",
    "    \n",
    "    max.data = value\n",
    "\n",
    "replace_with_max(37)\n",
    "print(L)"
   ]
  },
  {
   "cell_type": "markdown",
   "metadata": {},
   "source": [
    "Here maximum is 90, and it is replaced with 37"
   ]
  }
 ],
 "metadata": {
  "kernelspec": {
   "display_name": "Python 3",
   "language": "python",
   "name": "python3"
  },
  "language_info": {
   "codemirror_mode": {
    "name": "ipython",
    "version": 3
   },
   "file_extension": ".py",
   "mimetype": "text/x-python",
   "name": "python",
   "nbconvert_exporter": "python",
   "pygments_lexer": "ipython3",
   "version": "3.11.4"
  }
 },
 "nbformat": 4,
 "nbformat_minor": 2
}
